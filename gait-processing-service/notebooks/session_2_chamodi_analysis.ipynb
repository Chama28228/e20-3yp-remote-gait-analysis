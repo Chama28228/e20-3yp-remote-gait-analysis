{
 "cells": [
  {
   "cell_type": "markdown",
   "id": "fc34353f",
   "metadata": {},
   "source": [
    "# Session 2 Chamodi : Gait Analysis\n",
    "### Time : 2025-05-31 21:44:45.469000 to 2025-05-31 21:45:25.529000\n",
    "### Sensor ID : 601\n",
    "### Steps : 30"
   ]
  },
  {
   "cell_type": "markdown",
   "id": "ae3a0592",
   "metadata": {},
   "source": [
    "## Fetching Raw Data from DynamoDB"
   ]
  },
  {
   "cell_type": "code",
   "execution_count": null,
   "id": "91a86a14",
   "metadata": {},
   "outputs": [],
   "source": [
    "import sys\n",
    "import os\n",
    "from datetime import datetime\n",
    "\n",
    "# Append app to sys.path to access modules like app.utils.dynamo\n",
    "sys.path.append(os.path.abspath(\"../app\"))"
   ]
  },
  {
   "cell_type": "code",
   "execution_count": 6,
   "id": "f92a725a",
   "metadata": {},
   "outputs": [],
   "source": [
    "from utils.dynamo import fetch_session_data"
   ]
  },
  {
   "cell_type": "code",
   "execution_count": 9,
   "id": "a335e85b",
   "metadata": {},
   "outputs": [
    {
     "name": "stdout",
     "output_type": "stream",
     "text": [
      "📦 Retrieved 0 records\n"
     ]
    }
   ],
   "source": [
    "sensor_id = 601\n",
    "start_time = datetime.fromisoformat(\"2025-05-31 19:57:33.521000\")\n",
    "end_time = datetime.fromisoformat(\"2025-05-31 19:57:57.172000\")\n",
    "\n",
    "data = fetch_session_data(sensor_id, start_time, end_time)\n",
    "print(f\"📦 Retrieved {len(data)} records\")\n"
   ]
  },
  {
   "cell_type": "code",
   "execution_count": 4,
   "id": "404a1bd9",
   "metadata": {},
   "outputs": [
    {
     "data": {
      "text/plain": [
       "[]"
      ]
     },
     "execution_count": 4,
     "metadata": {},
     "output_type": "execute_result"
    }
   ],
   "source": [
    "data"
   ]
  },
  {
   "cell_type": "markdown",
   "id": "7fa5b22c",
   "metadata": {},
   "source": [
    "## Step 1 :  Preprocess and Sort"
   ]
  },
  {
   "cell_type": "markdown",
   "id": "a711aa00",
   "metadata": {},
   "source": [
    "### Sort By Timestamp"
   ]
  },
  {
   "cell_type": "code",
   "execution_count": 10,
   "id": "d2184f44",
   "metadata": {},
   "outputs": [
    {
     "data": {
      "text/html": [
       "<div>\n",
       "<style scoped>\n",
       "    .dataframe tbody tr th:only-of-type {\n",
       "        vertical-align: middle;\n",
       "    }\n",
       "\n",
       "    .dataframe tbody tr th {\n",
       "        vertical-align: top;\n",
       "    }\n",
       "\n",
       "    .dataframe thead th {\n",
       "        text-align: right;\n",
       "    }\n",
       "</style>\n",
       "<table border=\"1\" class=\"dataframe\">\n",
       "  <thead>\n",
       "    <tr style=\"text-align: right;\">\n",
       "      <th></th>\n",
       "      <th>gyro_cal</th>\n",
       "      <th>mag_cal</th>\n",
       "      <th>roll</th>\n",
       "      <th>type</th>\n",
       "      <th>FSR_12</th>\n",
       "      <th>FSR_11</th>\n",
       "      <th>FSR_10</th>\n",
       "      <th>FSR_16</th>\n",
       "      <th>FSR_15</th>\n",
       "      <th>FSR_1</th>\n",
       "      <th>...</th>\n",
       "      <th>device_id</th>\n",
       "      <th>yaw</th>\n",
       "      <th>gx</th>\n",
       "      <th>gy</th>\n",
       "      <th>gz</th>\n",
       "      <th>sys_cal</th>\n",
       "      <th>accel_cal</th>\n",
       "      <th>ax</th>\n",
       "      <th>ay</th>\n",
       "      <th>az</th>\n",
       "    </tr>\n",
       "  </thead>\n",
       "  <tbody>\n",
       "    <tr>\n",
       "      <th>0</th>\n",
       "      <td>3.0</td>\n",
       "      <td>3.0</td>\n",
       "      <td>7.62</td>\n",
       "      <td>sensor_data</td>\n",
       "      <td>0.0</td>\n",
       "      <td>0.0</td>\n",
       "      <td>0.0</td>\n",
       "      <td>0.0</td>\n",
       "      <td>147.0</td>\n",
       "      <td>0.0</td>\n",
       "      <td>...</td>\n",
       "      <td>601</td>\n",
       "      <td>16.81</td>\n",
       "      <td>10.94</td>\n",
       "      <td>-46.44</td>\n",
       "      <td>26.87</td>\n",
       "      <td>3.0</td>\n",
       "      <td>3.0</td>\n",
       "      <td>2.35</td>\n",
       "      <td>-0.65</td>\n",
       "      <td>0.27</td>\n",
       "    </tr>\n",
       "    <tr>\n",
       "      <th>1</th>\n",
       "      <td>3.0</td>\n",
       "      <td>3.0</td>\n",
       "      <td>-2.56</td>\n",
       "      <td>sensor_data</td>\n",
       "      <td>0.0</td>\n",
       "      <td>0.0</td>\n",
       "      <td>0.0</td>\n",
       "      <td>0.0</td>\n",
       "      <td>147.0</td>\n",
       "      <td>0.0</td>\n",
       "      <td>...</td>\n",
       "      <td>601</td>\n",
       "      <td>29.37</td>\n",
       "      <td>-3.69</td>\n",
       "      <td>-13.00</td>\n",
       "      <td>-15.13</td>\n",
       "      <td>3.0</td>\n",
       "      <td>3.0</td>\n",
       "      <td>-0.55</td>\n",
       "      <td>-0.03</td>\n",
       "      <td>0.26</td>\n",
       "    </tr>\n",
       "    <tr>\n",
       "      <th>2</th>\n",
       "      <td>3.0</td>\n",
       "      <td>3.0</td>\n",
       "      <td>-5.87</td>\n",
       "      <td>sensor_data</td>\n",
       "      <td>0.0</td>\n",
       "      <td>0.0</td>\n",
       "      <td>0.0</td>\n",
       "      <td>0.0</td>\n",
       "      <td>148.0</td>\n",
       "      <td>0.0</td>\n",
       "      <td>...</td>\n",
       "      <td>601</td>\n",
       "      <td>6.44</td>\n",
       "      <td>-8.69</td>\n",
       "      <td>54.75</td>\n",
       "      <td>-46.31</td>\n",
       "      <td>3.0</td>\n",
       "      <td>3.0</td>\n",
       "      <td>-5.53</td>\n",
       "      <td>0.86</td>\n",
       "      <td>2.20</td>\n",
       "    </tr>\n",
       "    <tr>\n",
       "      <th>3</th>\n",
       "      <td>3.0</td>\n",
       "      <td>3.0</td>\n",
       "      <td>18.00</td>\n",
       "      <td>sensor_data</td>\n",
       "      <td>0.0</td>\n",
       "      <td>0.0</td>\n",
       "      <td>0.0</td>\n",
       "      <td>0.0</td>\n",
       "      <td>152.0</td>\n",
       "      <td>0.0</td>\n",
       "      <td>...</td>\n",
       "      <td>601</td>\n",
       "      <td>76.94</td>\n",
       "      <td>-45.81</td>\n",
       "      <td>-14.63</td>\n",
       "      <td>-128.75</td>\n",
       "      <td>3.0</td>\n",
       "      <td>3.0</td>\n",
       "      <td>3.04</td>\n",
       "      <td>2.05</td>\n",
       "      <td>-5.20</td>\n",
       "    </tr>\n",
       "    <tr>\n",
       "      <th>4</th>\n",
       "      <td>3.0</td>\n",
       "      <td>3.0</td>\n",
       "      <td>-5.25</td>\n",
       "      <td>sensor_data</td>\n",
       "      <td>0.0</td>\n",
       "      <td>0.0</td>\n",
       "      <td>0.0</td>\n",
       "      <td>0.0</td>\n",
       "      <td>139.0</td>\n",
       "      <td>0.0</td>\n",
       "      <td>...</td>\n",
       "      <td>601</td>\n",
       "      <td>39.88</td>\n",
       "      <td>-1.19</td>\n",
       "      <td>-27.87</td>\n",
       "      <td>-10.69</td>\n",
       "      <td>3.0</td>\n",
       "      <td>3.0</td>\n",
       "      <td>-0.24</td>\n",
       "      <td>-0.19</td>\n",
       "      <td>-0.13</td>\n",
       "    </tr>\n",
       "  </tbody>\n",
       "</table>\n",
       "<p>5 rows × 36 columns</p>\n",
       "</div>"
      ],
      "text/plain": [
       "   gyro_cal  mag_cal   roll         type  FSR_12  FSR_11  FSR_10  FSR_16  \\\n",
       "0       3.0      3.0   7.62  sensor_data     0.0     0.0     0.0     0.0   \n",
       "1       3.0      3.0  -2.56  sensor_data     0.0     0.0     0.0     0.0   \n",
       "2       3.0      3.0  -5.87  sensor_data     0.0     0.0     0.0     0.0   \n",
       "3       3.0      3.0  18.00  sensor_data     0.0     0.0     0.0     0.0   \n",
       "4       3.0      3.0  -5.25  sensor_data     0.0     0.0     0.0     0.0   \n",
       "\n",
       "   FSR_15  FSR_1  ...  device_id    yaw     gx     gy      gz  sys_cal  \\\n",
       "0   147.0    0.0  ...        601  16.81  10.94 -46.44   26.87      3.0   \n",
       "1   147.0    0.0  ...        601  29.37  -3.69 -13.00  -15.13      3.0   \n",
       "2   148.0    0.0  ...        601   6.44  -8.69  54.75  -46.31      3.0   \n",
       "3   152.0    0.0  ...        601  76.94 -45.81 -14.63 -128.75      3.0   \n",
       "4   139.0    0.0  ...        601  39.88  -1.19 -27.87  -10.69      3.0   \n",
       "\n",
       "   accel_cal    ax    ay    az  \n",
       "0        3.0  2.35 -0.65  0.27  \n",
       "1        3.0 -0.55 -0.03  0.26  \n",
       "2        3.0 -5.53  0.86  2.20  \n",
       "3        3.0  3.04  2.05 -5.20  \n",
       "4        3.0 -0.24 -0.19 -0.13  \n",
       "\n",
       "[5 rows x 36 columns]"
      ]
     },
     "execution_count": 10,
     "metadata": {},
     "output_type": "execute_result"
    }
   ],
   "source": [
    "import pandas as pd\n",
    "from decimal import Decimal\n",
    "\n",
    "# Convert to DataFrame\n",
    "df = pd.json_normalize(data)\n",
    "\n",
    "# Convert all Decimal values to float (optional but useful)\n",
    "df = df.map(lambda x: float(x) if isinstance(x, Decimal) else x)\n",
    "\n",
    "# Sort by timestamp\n",
    "df = df.sort_values(by=\"timestamp\").reset_index(drop=True)\n",
    "\n",
    "# Show first few rows\n",
    "df.head()\n"
   ]
  },
  {
   "cell_type": "markdown",
   "id": "bbd2fbd8",
   "metadata": {},
   "source": [
    "### Check for Missing FSR Values"
   ]
  },
  {
   "cell_type": "code",
   "execution_count": 11,
   "id": "ba6b8cda",
   "metadata": {},
   "outputs": [
    {
     "name": "stdout",
     "output_type": "stream",
     "text": [
      "Missing FSR columns: []\n"
     ]
    }
   ],
   "source": [
    "required_fsrs = [f\"FSR_{i}\" for i in range(1, 17)]\n",
    "missing = [col for col in required_fsrs if col not in df.columns]\n",
    "print(\"Missing FSR columns:\", missing)"
   ]
  },
  {
   "cell_type": "markdown",
   "id": "e668c64a",
   "metadata": {},
   "source": [
    "### Clipping FSR values (0 to 4095)"
   ]
  },
  {
   "cell_type": "code",
   "execution_count": 12,
   "id": "13af7075",
   "metadata": {},
   "outputs": [],
   "source": [
    "for col in required_fsrs:\n",
    "    df[col] = df[col].clip(0, 4095)\n"
   ]
  },
  {
   "cell_type": "markdown",
   "id": "c390bbbe",
   "metadata": {},
   "source": [
    "### Normalizing  Timestamps "
   ]
  },
  {
   "cell_type": "code",
   "execution_count": 13,
   "id": "5afa31a8",
   "metadata": {},
   "outputs": [],
   "source": [
    "df[\"time_sec\"] = df[\"timestamp\"] - df[\"timestamp\"].min()"
   ]
  }
 ],
 "metadata": {
  "kernelspec": {
   "display_name": "venv",
   "language": "python",
   "name": "python3"
  },
  "language_info": {
   "codemirror_mode": {
    "name": "ipython",
    "version": 3
   },
   "file_extension": ".py",
   "mimetype": "text/x-python",
   "name": "python",
   "nbconvert_exporter": "python",
   "pygments_lexer": "ipython3",
   "version": "3.12.4"
  }
 },
 "nbformat": 4,
 "nbformat_minor": 5
}
